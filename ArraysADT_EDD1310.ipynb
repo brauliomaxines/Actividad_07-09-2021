{
  "nbformat": 4,
  "nbformat_minor": 0,
  "metadata": {
    "colab": {
      "name": "ArraysADT_EDD1310.ipynb",
      "provenance": [],
      "collapsed_sections": []
    },
    "kernelspec": {
      "name": "python3",
      "display_name": "Python 3"
    },
    "language_info": {
      "name": "python"
    }
  },
  "cells": [
    {
      "cell_type": "markdown",
      "metadata": {
        "id": "Tz7UCpFGfsbY"
      },
      "source": [
        ""
      ]
    },
    {
      "cell_type": "code",
      "metadata": {
        "colab": {
          "base_uri": "https://localhost:8080/"
        },
        "id": "boxLsbPdfj_L",
        "outputId": "9f5197cb-b844-4751-86ff-98cd3a22e9f1"
      },
      "source": [
        "class Array:\n",
        "    def __init__(self , tam ):\n",
        "        self.__tamanio = tam\n",
        "        self.__data = [ 0 for x in range(self.__tamanio) ]\n",
        "\n",
        "    def to_string( self ):\n",
        "        info = \"\"\n",
        "        for dato in self.__data:\n",
        "            info = info + str(dato) +\"|\"\n",
        "        return info\n",
        "\n",
        "    def get_item ( self , index ):\n",
        "        return self.__data[index]\n",
        "    \n",
        "    def get_length( self ):\n",
        "        return len( self.__data)\n",
        "    \n",
        "    def set_item( self , dato , index):\n",
        "        #hace falta revisar limites\n",
        "        if index >= 0 and index < self.get_length():\n",
        "            self.__data[index] = dato\n",
        "        else:\n",
        "            print(\"Error: indice fuera de rango\")\n",
        "    \n",
        "\n",
        "    def clear ( self , dato ):\n",
        "        self.__data = [ dato for x in range(self.__tamanio) ]\n",
        "\n",
        "ejemplo = Array(20)\n",
        "print( ejemplo.to_string() )\n",
        "print( ejemplo.get_item(2) )\n",
        "ejemplo.set_item( 45 , 2 )\n",
        "print(ejemplo.to_string() )\n",
        "ejemplo.clear( 4 )\n",
        "print( ejemplo.to_string() )\n",
        "print(ejemplo.get_length())"
      ],
      "execution_count": null,
      "outputs": [
        {
          "output_type": "stream",
          "name": "stdout",
          "text": [
            "0|0|0|0|0|0|0|0|0|0|0|0|0|0|0|0|0|0|0|0|\n",
            "0\n",
            "0|0|45|0|0|0|0|0|0|0|0|0|0|0|0|0|0|0|0|0|\n",
            "4|4|4|4|4|4|4|4|4|4|4|4|4|4|4|4|4|4|4|4|\n",
            "20\n"
          ]
        }
      ]
    },
    {
      "cell_type": "code",
      "metadata": {
        "colab": {
          "base_uri": "https://localhost:8080/"
        },
        "id": "8deltvpegdQ4",
        "outputId": "f91a057b-be7b-4551-f89a-2dda9f03c84d"
      },
      "source": [
        "lista = [3 * x for x in range (5)]\n",
        "print(lista)"
      ],
      "execution_count": null,
      "outputs": [
        {
          "output_type": "stream",
          "name": "stdout",
          "text": [
            "[0, 3, 6, 9, 12]\n"
          ]
        }
      ]
    },
    {
      "cell_type": "markdown",
      "metadata": {
        "id": "Ywu_h-PflT2_"
      },
      "source": [
        "La carpeta de datos es volatil...\n"
      ]
    },
    {
      "cell_type": "code",
      "metadata": {
        "colab": {
          "base_uri": "https://localhost:8080/"
        },
        "id": "wFFxTnCklr4g",
        "outputId": "f33bfc59-3a27-4998-8f8a-c2e740fb8bd6"
      },
      "source": [
        "cat junio.dat"
      ],
      "execution_count": null,
      "outputs": [
        {
          "output_type": "stream",
          "name": "stdout",
          "text": [
            "numero de trabajador, nombres, paterno, materno, horas extra, sueldo base, año de ingreso\r\n",
            "2345,CARLOS,PEREZ,CASTILLO,0,9850,2017\r\n",
            "5754,ANGEL,GOMEZ,GARRIDO,1,9850,2020\r\n",
            "5345,JESUS,MARTIN,SANTOS,2,9850,2016\r\n",
            "3267,DAVID,JIMENEZ,LOZANO,2,9850,2017\r\n",
            "8765,PEDRO,RUIZ,GUERRERO,2,9850,2017\r\n",
            "5454,DANIEL,HERNANDEZ,CANO,3,9850,2018\r\n",
            "3456,ALEJANDRO,DIAZ,PRIETO,2,9850,2018\r\n",
            "3445,MARIA,MORENO,MENDEZ,1,9850,2018\r\n",
            "9088,ALBERTO,MU�OZ,CRUZ,1,9850,2017\r\n",
            "8877,RAFAEL,ALVAREZ,FLORES,2,9850,2017\r\n",
            "6767,FERNANDO,ROMERO,HERRERA,4,9850,2019\r\n",
            "5654,PABLO,ALONSO,GALLEGO,1,9850,2019\r\n",
            "4323,JORGE,GUTIERREZ,MARQUEZ,2,9850,2020\r\n",
            "2232,RAMON,NAVARRO,LEON,1,9850,2016"
          ]
        }
      ]
    },
    {
      "cell_type": "code",
      "metadata": {
        "colab": {
          "base_uri": "https://localhost:8080/"
        },
        "id": "uF9Fb6bHm773",
        "outputId": "07eb15f9-3b8b-4320-ff47-5380e27361a3"
      },
      "source": [
        "archivo = open('junio.dat' , 'rt' , encoding='latin-1')\n",
        "print(archivo.read())"
      ],
      "execution_count": null,
      "outputs": [
        {
          "output_type": "stream",
          "name": "stdout",
          "text": [
            "numero de trabajador, nombres, paterno, materno, horas extra, sueldo base, aÃ±o de ingreso\n",
            "2345,CARLOS,PEREZ,CASTILLO,0,9850,2017\n",
            "5754,ANGEL,GOMEZ,GARRIDO,1,9850,2020\n",
            "5345,JESUS,MARTIN,SANTOS,2,9850,2016\n",
            "3267,DAVID,JIMENEZ,LOZANO,2,9850,2017\n",
            "8765,PEDRO,RUIZ,GUERRERO,2,9850,2017\n",
            "5454,DANIEL,HERNANDEZ,CANO,3,9850,2018\n",
            "3456,ALEJANDRO,DIAZ,PRIETO,2,9850,2018\n",
            "3445,MARIA,MORENO,MENDEZ,1,9850,2018\n",
            "9088,ALBERTO,MUOZ,CRUZ,1,9850,2017\n",
            "8877,RAFAEL,ALVAREZ,FLORES,2,9850,2017\n",
            "6767,FERNANDO,ROMERO,HERRERA,4,9850,2019\n",
            "5654,PABLO,ALONSO,GALLEGO,1,9850,2019\n",
            "4323,JORGE,GUTIERREZ,MARQUEZ,2,9850,2020\n",
            "2232,RAMON,NAVARRO,LEON,1,9850,2016\n"
          ]
        }
      ]
    },
    {
      "cell_type": "markdown",
      "metadata": {
        "id": "6LapkgzpnyNo"
      },
      "source": [
        "Hacer una lista de listas\n",
        "Va a requerir una clase que almacene los datos de cada trabajador"
      ]
    },
    {
      "cell_type": "code",
      "metadata": {
        "id": "twNVr_zzn7qW"
      },
      "source": [
        "class trabajador:\n",
        "    def __init__(self, nt, nom, pat, mat, he, sb, ai ):\n",
        "        self.__numero_trabajador = nt\n",
        "        #asi con todos los atributos\n",
        "\n",
        "    #aqui van todos los metodos de acceso\n",
        "    def set_numero_trabajador(self , nt):\n",
        "        self.__numero_trabajador = nt\n",
        "\n",
        "    # metodos de uso gral metodos que hacen claculos de la logica    "
      ],
      "execution_count": null,
      "outputs": []
    },
    {
      "cell_type": "code",
      "metadata": {
        "id": "58xku74LqGV7",
        "colab": {
          "base_uri": "https://localhost:8080/",
          "height": 132
        },
        "outputId": "ea245b6c-c95a-4a0c-846f-58bab79967ef"
      },
      "source": [
        "class nominaADT:\n",
        "    def __init__(self, ruta_archivo ):\n",
        "        # abrir el archivo y determinar el numero de empleados    num_emp\n",
        "        self.__data = Array(num_emp)\n",
        "\n",
        "    def calcular_sueldos(self ):\n",
        "        #iterar sobre el Array y hacer el calculo de sueldos\n",
        "\n",
        "    def buscar_mas_antiguo( self ):\n",
        "        #iterar y buscara en el Array el de mayor antiguedad\n",
        "    def buscar_menor_antiguedad(self):\n",
        "        #idem\n"
      ],
      "execution_count": null,
      "outputs": [
        {
          "output_type": "error",
          "ename": "IndentationError",
          "evalue": "ignored",
          "traceback": [
            "\u001b[0;36m  File \u001b[0;32m\"<ipython-input-10-c19749c53999>\"\u001b[0;36m, line \u001b[0;32m9\u001b[0m\n\u001b[0;31m    def buscar_mas_antiguo( self ):\u001b[0m\n\u001b[0m      ^\u001b[0m\n\u001b[0;31mIndentationError\u001b[0m\u001b[0;31m:\u001b[0m expected an indented block\n"
          ]
        }
      ]
    },
    {
      "cell_type": "code",
      "metadata": {
        "colab": {
          "base_uri": "https://localhost:8080/"
        },
        "id": "iSNMEM4Tr6VC",
        "outputId": "f0f165c5-81c3-4384-e7ba-04649e5b0b1f"
      },
      "source": [
        "sueldo_base =100\n",
        "anio = 2019\n",
        "antiguedad = 2\n",
        "\n",
        "prestacion = 100 *(2*0.03)\n",
        "print(sueldo_base + prestacion)"
      ],
      "execution_count": null,
      "outputs": [
        {
          "output_type": "stream",
          "name": "stdout",
          "text": [
            "106.0\n"
          ]
        }
      ]
    }
  ]
}